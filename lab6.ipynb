{
 "cells": [
  {
   "cell_type": "markdown",
   "metadata": {},
   "source": [
    "# Лабораторная работа №6\n",
    "# Ансамбли моделей машинного обучения"
   ]
  },
  {
   "cell_type": "markdown",
   "metadata": {},
   "source": [
    "### Цель лабораторной работы\n",
    "Изучение ансамблей моделей машинного обучения."
   ]
  },
  {
   "cell_type": "markdown",
   "metadata": {},
   "source": [
    "### Задание\n",
    "- Выберите набор данных (датасет) для решения задачи классификации или регресии.\n",
    "- В случае необходимости проведите удаление или заполнение пропусков и кодирование категориальных признаков.\n",
    "- С использованием метода train_test_split разделите выборку на обучающую и тестовую.\n",
    "- Обучите две ансамблевые модели. Оцените качество моделей с помощью одной из подходящих для задачи метрик. Сравните качество полученных моделей."
   ]
  },
  {
   "cell_type": "markdown",
   "metadata": {},
   "source": [
    "# Ход выполнения лабораторной работы"
   ]
  },
  {
   "cell_type": "code",
   "execution_count": 1,
   "metadata": {},
   "outputs": [],
   "source": [
    "import pandas as pd\n",
    "import seaborn as sns\n",
    "import numpy as np\n",
    "import matplotlib.pyplot as plt\n",
    "from sklearn.preprocessing import MinMaxScaler\n",
    "from sklearn.model_selection import train_test_split\n",
    "from sklearn.metrics import f1_score, precision_score, recall_score, accuracy_score\n",
    "from sklearn.ensemble import RandomForestClassifier\n",
    "from sklearn.ensemble import GradientBoostingClassifier\n",
    "%matplotlib inline\n",
    "sns.set(style=\"ticks\")"
   ]
  },
  {
   "cell_type": "code",
   "execution_count": 2,
   "metadata": {},
   "outputs": [],
   "source": [
    "col_list = ['Pelvic_incidence',\n",
    "               'Pelvic_tilt',\n",
    "               'Lumbar_lordosis_angle',\n",
    "               'Sacral_slope',\n",
    "               'Pelvic_radius',\n",
    "               'Degree_spondylolisthesis',\n",
    "               'Pelvic_slope',\n",
    "               'Direct_tilt',\n",
    "               'Thoracic_slope',\n",
    "               'Cervical_tilt',\n",
    "               'Sacrum_angle',\n",
    "               'Scoliosis_slope',\n",
    "               'Class_att',\n",
    "               'To_drop']\n",
    "data = pd.read_csv('data/Dataset_spine.csv', names=col_list, header=1, sep=\",\")\n",
    "data.drop('To_drop', axis=1, inplace=True)"
   ]
  },
  {
   "cell_type": "code",
   "execution_count": 3,
   "metadata": {},
   "outputs": [
    {
     "data": {
      "text/html": [
       "<div>\n",
       "<style scoped>\n",
       "    .dataframe tbody tr th:only-of-type {\n",
       "        vertical-align: middle;\n",
       "    }\n",
       "\n",
       "    .dataframe tbody tr th {\n",
       "        vertical-align: top;\n",
       "    }\n",
       "\n",
       "    .dataframe thead th {\n",
       "        text-align: right;\n",
       "    }\n",
       "</style>\n",
       "<table border=\"1\" class=\"dataframe\">\n",
       "  <thead>\n",
       "    <tr style=\"text-align: right;\">\n",
       "      <th></th>\n",
       "      <th>Pelvic_incidence</th>\n",
       "      <th>Pelvic_tilt</th>\n",
       "      <th>Lumbar_lordosis_angle</th>\n",
       "      <th>Sacral_slope</th>\n",
       "      <th>Pelvic_radius</th>\n",
       "      <th>Degree_spondylolisthesis</th>\n",
       "      <th>Pelvic_slope</th>\n",
       "      <th>Direct_tilt</th>\n",
       "      <th>Thoracic_slope</th>\n",
       "      <th>Cervical_tilt</th>\n",
       "      <th>Sacrum_angle</th>\n",
       "      <th>Scoliosis_slope</th>\n",
       "      <th>Class_att</th>\n",
       "    </tr>\n",
       "  </thead>\n",
       "  <tbody>\n",
       "    <tr>\n",
       "      <th>0</th>\n",
       "      <td>39.056951</td>\n",
       "      <td>10.060991</td>\n",
       "      <td>25.015378</td>\n",
       "      <td>28.995960</td>\n",
       "      <td>114.405425</td>\n",
       "      <td>4.564259</td>\n",
       "      <td>0.415186</td>\n",
       "      <td>12.8874</td>\n",
       "      <td>17.5323</td>\n",
       "      <td>16.78486</td>\n",
       "      <td>-25.530607</td>\n",
       "      <td>16.1102</td>\n",
       "      <td>Abnormal</td>\n",
       "    </tr>\n",
       "    <tr>\n",
       "      <th>1</th>\n",
       "      <td>68.832021</td>\n",
       "      <td>22.218482</td>\n",
       "      <td>50.092194</td>\n",
       "      <td>46.613539</td>\n",
       "      <td>105.985135</td>\n",
       "      <td>-3.530317</td>\n",
       "      <td>0.474889</td>\n",
       "      <td>26.8343</td>\n",
       "      <td>17.4861</td>\n",
       "      <td>16.65897</td>\n",
       "      <td>-29.031888</td>\n",
       "      <td>19.2221</td>\n",
       "      <td>Abnormal</td>\n",
       "    </tr>\n",
       "    <tr>\n",
       "      <th>2</th>\n",
       "      <td>69.297008</td>\n",
       "      <td>24.652878</td>\n",
       "      <td>44.311238</td>\n",
       "      <td>44.644130</td>\n",
       "      <td>101.868495</td>\n",
       "      <td>11.211523</td>\n",
       "      <td>0.369345</td>\n",
       "      <td>23.5603</td>\n",
       "      <td>12.7074</td>\n",
       "      <td>11.42447</td>\n",
       "      <td>-30.470246</td>\n",
       "      <td>18.8329</td>\n",
       "      <td>Abnormal</td>\n",
       "    </tr>\n",
       "    <tr>\n",
       "      <th>3</th>\n",
       "      <td>49.712859</td>\n",
       "      <td>9.652075</td>\n",
       "      <td>28.317406</td>\n",
       "      <td>40.060784</td>\n",
       "      <td>108.168725</td>\n",
       "      <td>7.918501</td>\n",
       "      <td>0.543360</td>\n",
       "      <td>35.4940</td>\n",
       "      <td>15.9546</td>\n",
       "      <td>8.87237</td>\n",
       "      <td>-16.378376</td>\n",
       "      <td>24.9171</td>\n",
       "      <td>Abnormal</td>\n",
       "    </tr>\n",
       "    <tr>\n",
       "      <th>4</th>\n",
       "      <td>40.250200</td>\n",
       "      <td>13.921907</td>\n",
       "      <td>25.124950</td>\n",
       "      <td>26.328293</td>\n",
       "      <td>130.327871</td>\n",
       "      <td>2.230652</td>\n",
       "      <td>0.789993</td>\n",
       "      <td>29.3230</td>\n",
       "      <td>12.0036</td>\n",
       "      <td>10.40462</td>\n",
       "      <td>-1.512209</td>\n",
       "      <td>9.6548</td>\n",
       "      <td>Abnormal</td>\n",
       "    </tr>\n",
       "  </tbody>\n",
       "</table>\n",
       "</div>"
      ],
      "text/plain": [
       "   Pelvic_incidence  Pelvic_tilt  Lumbar_lordosis_angle  Sacral_slope  \\\n",
       "0         39.056951    10.060991              25.015378     28.995960   \n",
       "1         68.832021    22.218482              50.092194     46.613539   \n",
       "2         69.297008    24.652878              44.311238     44.644130   \n",
       "3         49.712859     9.652075              28.317406     40.060784   \n",
       "4         40.250200    13.921907              25.124950     26.328293   \n",
       "\n",
       "   Pelvic_radius  Degree_spondylolisthesis  Pelvic_slope  Direct_tilt  \\\n",
       "0     114.405425                  4.564259      0.415186      12.8874   \n",
       "1     105.985135                 -3.530317      0.474889      26.8343   \n",
       "2     101.868495                 11.211523      0.369345      23.5603   \n",
       "3     108.168725                  7.918501      0.543360      35.4940   \n",
       "4     130.327871                  2.230652      0.789993      29.3230   \n",
       "\n",
       "   Thoracic_slope  Cervical_tilt  Sacrum_angle  Scoliosis_slope Class_att  \n",
       "0         17.5323       16.78486    -25.530607          16.1102  Abnormal  \n",
       "1         17.4861       16.65897    -29.031888          19.2221  Abnormal  \n",
       "2         12.7074       11.42447    -30.470246          18.8329  Abnormal  \n",
       "3         15.9546        8.87237    -16.378376          24.9171  Abnormal  \n",
       "4         12.0036       10.40462     -1.512209           9.6548  Abnormal  "
      ]
     },
     "execution_count": 3,
     "metadata": {},
     "output_type": "execute_result"
    }
   ],
   "source": [
    "data.head()"
   ]
  },
  {
   "cell_type": "code",
   "execution_count": 4,
   "metadata": {},
   "outputs": [
    {
     "data": {
      "text/plain": [
       "Pelvic_incidence            0\n",
       "Pelvic_tilt                 0\n",
       "Lumbar_lordosis_angle       0\n",
       "Sacral_slope                0\n",
       "Pelvic_radius               0\n",
       "Degree_spondylolisthesis    0\n",
       "Pelvic_slope                0\n",
       "Direct_tilt                 0\n",
       "Thoracic_slope              0\n",
       "Cervical_tilt               0\n",
       "Sacrum_angle                0\n",
       "Scoliosis_slope             0\n",
       "Class_att                   0\n",
       "dtype: int64"
      ]
     },
     "execution_count": 4,
     "metadata": {},
     "output_type": "execute_result"
    }
   ],
   "source": [
    "data.isnull().sum()"
   ]
  },
  {
   "cell_type": "markdown",
   "metadata": {},
   "source": [
    "Пропуски данных отсутствуют."
   ]
  },
  {
   "cell_type": "code",
   "execution_count": 5,
   "metadata": {},
   "outputs": [],
   "source": [
    "#Кодирование категориальных признаков\n",
    "data['Class_att'] = data['Class_att'].map({'Abnormal': 1, 'Normal': 0})"
   ]
  },
  {
   "cell_type": "markdown",
   "metadata": {},
   "source": [
    "#### В качестве метрики для решения задачи классификации будем использовать: Precision - доля верно предсказанных классификатором положительных объектов, из всех объектов, которые классификатор верно или неверно определил как положительные."
   ]
  },
  {
   "cell_type": "markdown",
   "metadata": {},
   "source": [
    "Разработаем класс, который позволит сохранять метрики качества построенных моделей и реализует визуализацию метрик качества."
   ]
  },
  {
   "cell_type": "code",
   "execution_count": 6,
   "metadata": {},
   "outputs": [],
   "source": [
    "class MetricLogger:\n",
    "    \n",
    "    def __init__(self):\n",
    "        self.df = pd.DataFrame(\n",
    "            {'metric': pd.Series([], dtype='str'),\n",
    "            'alg': pd.Series([], dtype='str'),\n",
    "            'value': pd.Series([], dtype='float')})\n",
    "\n",
    "    def add(self, metric, alg, value):\n",
    "        \"\"\"\n",
    "        Добавление значения\n",
    "        \"\"\"\n",
    "        # Удаление значения если оно уже было ранее добавлено\n",
    "        self.df.drop(self.df[(self.df['metric']==metric)&(self.df['alg']==alg)].index, inplace = True)\n",
    "        # Добавление нового значения\n",
    "        temp = [{'metric':metric, 'alg':alg, 'value':value}]\n",
    "        self.df = self.df.append(temp, ignore_index=True)\n",
    "\n",
    "    def get_data_for_metric(self, metric, ascending=True):\n",
    "        \"\"\"\n",
    "        Формирование данных с фильтром по метрике\n",
    "        \"\"\"\n",
    "        temp_data = self.df[self.df['metric']==metric]\n",
    "        temp_data_2 = temp_data.sort_values(by='value', ascending=ascending)\n",
    "        return temp_data_2['alg'].values, temp_data_2['value'].values\n",
    "    \n",
    "    def plot(self, str_header, metric, ascending=True, figsize=(5, 5)):\n",
    "        \"\"\"\n",
    "        Вывод графика\n",
    "        \"\"\"\n",
    "        array_labels, array_metric = self.get_data_for_metric(metric, ascending)\n",
    "        fig, ax1 = plt.subplots(figsize=figsize)\n",
    "        pos = np.arange(len(array_metric))\n",
    "        rects = ax1.barh(pos, array_metric,\n",
    "                         align='center',\n",
    "                         height=0.5, \n",
    "                         tick_label=array_labels)\n",
    "        ax1.set_title(str_header)\n",
    "        for a,b in zip(pos, array_metric):\n",
    "            plt.text(0.5, a-0.05, str(round(b,3)), color='white')\n",
    "        plt.show()   "
   ]
  },
  {
   "cell_type": "markdown",
   "metadata": {},
   "source": [
    "Для задачи классификации будем использовать случайный лес и градиентный бустинг."
   ]
  },
  {
   "cell_type": "markdown",
   "metadata": {},
   "source": [
    "### Формирование обучающей и тестовой выборок"
   ]
  },
  {
   "cell_type": "code",
   "execution_count": 7,
   "metadata": {},
   "outputs": [
    {
     "data": {
      "text/plain": [
       "Index(['Pelvic_incidence', 'Pelvic_tilt', 'Lumbar_lordosis_angle',\n",
       "       'Sacral_slope', 'Pelvic_radius', 'Degree_spondylolisthesis',\n",
       "       'Pelvic_slope', 'Direct_tilt', 'Thoracic_slope', 'Cervical_tilt',\n",
       "       'Sacrum_angle', 'Scoliosis_slope', 'Class_att'],\n",
       "      dtype='object')"
      ]
     },
     "execution_count": 7,
     "metadata": {},
     "output_type": "execute_result"
    }
   ],
   "source": [
    "data.columns"
   ]
  },
  {
   "cell_type": "code",
   "execution_count": 8,
   "metadata": {},
   "outputs": [
    {
     "data": {
      "text/plain": [
       "Pelvic_incidence            float64\n",
       "Pelvic_tilt                 float64\n",
       "Lumbar_lordosis_angle       float64\n",
       "Sacral_slope                float64\n",
       "Pelvic_radius               float64\n",
       "Degree_spondylolisthesis    float64\n",
       "Pelvic_slope                float64\n",
       "Direct_tilt                 float64\n",
       "Thoracic_slope              float64\n",
       "Cervical_tilt               float64\n",
       "Sacrum_angle                float64\n",
       "Scoliosis_slope             float64\n",
       "Class_att                     int64\n",
       "dtype: object"
      ]
     },
     "execution_count": 8,
     "metadata": {},
     "output_type": "execute_result"
    }
   ],
   "source": [
    "data.dtypes"
   ]
  },
  {
   "cell_type": "code",
   "execution_count": 9,
   "metadata": {},
   "outputs": [],
   "source": [
    "# Признаки для задачи классификации\n",
    "class_cols = ['Pelvic_incidence',\n",
    "               'Pelvic_tilt',\n",
    "               'Lumbar_lordosis_angle',\n",
    "               'Degree_spondylolisthesis',\n",
    "               ]"
   ]
  },
  {
   "cell_type": "code",
   "execution_count": 10,
   "metadata": {},
   "outputs": [
    {
     "data": {
      "text/plain": [
       "(309, 4)"
      ]
     },
     "execution_count": 10,
     "metadata": {},
     "output_type": "execute_result"
    }
   ],
   "source": [
    "X = data[class_cols]\n",
    "Y = data['Class_att']\n",
    "X.shape"
   ]
  },
  {
   "cell_type": "code",
   "execution_count": 11,
   "metadata": {},
   "outputs": [],
   "source": [
    "# С использованием метода train_test_split разделим выборку на обучающую и тестовую\n",
    "X_train, X_test, Y_train, Y_test = train_test_split(X, Y, test_size=0.25, random_state=1)"
   ]
  },
  {
   "cell_type": "code",
   "execution_count": 12,
   "metadata": {},
   "outputs": [
    {
     "data": {
      "text/plain": [
       "((231, 4), (78, 4), (231,), (78,))"
      ]
     },
     "execution_count": 12,
     "metadata": {},
     "output_type": "execute_result"
    }
   ],
   "source": [
    "X_train.shape, X_test.shape, Y_train.shape, Y_test.shape"
   ]
  },
  {
   "cell_type": "markdown",
   "metadata": {},
   "source": [
    "### Обучение моделей"
   ]
  },
  {
   "cell_type": "code",
   "execution_count": 13,
   "metadata": {},
   "outputs": [],
   "source": [
    "# Сохранение метрик\n",
    "clasMetricLogger = MetricLogger()"
   ]
  },
  {
   "cell_type": "code",
   "execution_count": 14,
   "metadata": {},
   "outputs": [],
   "source": [
    "def train_model(model_name, model, MetricLogger):\n",
    "    model.fit(X_train, Y_train)\n",
    "    Y_pred = model.predict(X_test)\n",
    "    \n",
    "    precision = precision_score(Y_test.values, Y_pred)\n",
    "    \n",
    "    MetricLogger.add('precision', model_name, precision)\n",
    "\n",
    "    print('*****************************************************')\n",
    "    print(model_name)\n",
    "    print(model)\n",
    "    print(\"precision_score:\", precision)"
   ]
  },
  {
   "cell_type": "code",
   "execution_count": 15,
   "metadata": {},
   "outputs": [
    {
     "name": "stdout",
     "output_type": "stream",
     "text": [
      "*****************************************************\n",
      "Случайный лес\n",
      "RandomForestClassifier(bootstrap=True, ccp_alpha=0.0, class_weight=None,\n",
      "                       criterion='gini', max_depth=None, max_features='auto',\n",
      "                       max_leaf_nodes=None, max_samples=None,\n",
      "                       min_impurity_decrease=0.0, min_impurity_split=None,\n",
      "                       min_samples_leaf=1, min_samples_split=2,\n",
      "                       min_weight_fraction_leaf=0.0, n_estimators=100,\n",
      "                       n_jobs=None, oob_score=False, random_state=None,\n",
      "                       verbose=0, warm_start=False)\n",
      "precision_score: 0.8363636363636363\n",
      "*****************************************************\n",
      "Градиентный бустинг\n",
      "GradientBoostingClassifier(ccp_alpha=0.0, criterion='friedman_mse', init=None,\n",
      "                           learning_rate=0.1, loss='deviance', max_depth=3,\n",
      "                           max_features=None, max_leaf_nodes=None,\n",
      "                           min_impurity_decrease=0.0, min_impurity_split=None,\n",
      "                           min_samples_leaf=1, min_samples_split=2,\n",
      "                           min_weight_fraction_leaf=0.0, n_estimators=100,\n",
      "                           n_iter_no_change=None, presort='deprecated',\n",
      "                           random_state=None, subsample=1.0, tol=0.0001,\n",
      "                           validation_fraction=0.1, verbose=0,\n",
      "                           warm_start=False)\n",
      "precision_score: 0.8333333333333334\n"
     ]
    }
   ],
   "source": [
    "train_model('Случайный лес', RandomForestClassifier(), clasMetricLogger)\n",
    "train_model('Градиентный бустинг', GradientBoostingClassifier(), clasMetricLogger)"
   ]
  },
  {
   "cell_type": "markdown",
   "metadata": {},
   "source": [
    "### Оценка качества моделей"
   ]
  },
  {
   "cell_type": "code",
   "execution_count": 16,
   "metadata": {},
   "outputs": [
    {
     "data": {
      "text/plain": [
       "array(['precision'], dtype=object)"
      ]
     },
     "execution_count": 16,
     "metadata": {},
     "output_type": "execute_result"
    }
   ],
   "source": [
    "# Метрики качества модели\n",
    "clas_metrics = clasMetricLogger.df['metric'].unique()\n",
    "clas_metrics"
   ]
  },
  {
   "cell_type": "code",
   "execution_count": 17,
   "metadata": {},
   "outputs": [
    {
     "data": {
      "image/png": "[encoded data removed]",
      "text/plain": [
       "<Figure size 360x216 with 1 Axes>"
      ]
     },
     "metadata": {},
     "output_type": "display_data"
    }
   ],
   "source": [
    "# Построим графики метрик качества модели\n",
    "for metric in clas_metrics:\n",
    "    clasMetricLogger.plot('Метрика: ' + metric, metric, figsize=(5, 3))"
   ]
  },
  {
   "cell_type": "markdown",
   "metadata": {},
   "source": [
    "На основании метрики precision лучшим оказался случайный лес."
   ]
  }
 ],
 "metadata": {
  "kernelspec": {
   "display_name": "Python 3",
   "language": "python",
   "name": "python3"
  },
  "language_info": {
   "codemirror_mode": {
    "name": "ipython",
    "version": 3
   },
   "file_extension": ".py",
   "mimetype": "text/x-python",
   "name": "python",
   "nbconvert_exporter": "python",
   "pygments_lexer": "ipython3",
   "version": "3.7.4"
  }
 },
 "nbformat": 4,
 "nbformat_minor": 4
}
